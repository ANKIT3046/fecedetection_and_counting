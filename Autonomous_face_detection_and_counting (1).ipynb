{
  "nbformat": 4,
  "nbformat_minor": 0,
  "metadata": {
    "colab": {
      "name": "Autonomous_face_detection_and_counting.ipynb",
      "version": "0.3.2",
      "provenance": [],
      "toc_visible": true
    },
    "language_info": {
      "codemirror_mode": {
        "name": "ipython",
        "version": 3
      },
      "file_extension": ".py",
      "mimetype": "text/x-python",
      "name": "python",
      "nbconvert_exporter": "python",
      "pygments_lexer": "ipython3",
      "version": "3.6.0"
    },
    "kernelspec": {
      "name": "python3",
      "display_name": "Python 3"
    },
    "accelerator": "GPU"
  },
  "cells": [
    {
      "metadata": {
        "id": "jB11GZuSgOTm",
        "colab_type": "text"
      },
      "cell_type": "markdown",
      "source": [
        "# Autonomous driving - Car detection\n",
        "\n",
        "Welcome to your week 3 programming assignment. You will learn about object detection using the very powerful YOLO model. Many of the ideas in this notebook are described in the two YOLO papers: Redmon et al., 2016 (https://arxiv.org/abs/1506.02640) and Redmon and Farhadi, 2016 (https://arxiv.org/abs/1612.08242). \n",
        "\n",
        "**You will learn to**:\n",
        "- Use object detection on a car detection dataset\n",
        "- Deal with bounding boxes\n",
        "\n",
        "Run the following cell to load the packages and dependencies that are going to be useful for your journey!"
      ]
    },
    {
      "metadata": {
        "id": "tTx05hFKtdch",
        "colab_type": "code",
        "colab": {
          "base_uri": "https://localhost:8080/",
          "height": 85
        },
        "outputId": "fbafb2ae-431a-4690-d8cf-f1398a2af7d9"
      },
      "cell_type": "code",
      "source": [
        "!unzip font.zip"
      ],
      "execution_count": 1,
      "outputs": [
        {
          "output_type": "stream",
          "text": [
            "Archive:  font.zip\n",
            "   creating: font/\n",
            "  inflating: font/FiraMono-Medium.otf  \n",
            "  inflating: font/SIL+Open+Font+License.txt  \n"
          ],
          "name": "stdout"
        }
      ]
    },
    {
      "metadata": {
        "id": "IqoWH3FNtm2M",
        "colab_type": "code",
        "colab": {
          "base_uri": "https://localhost:8080/",
          "height": 204
        },
        "outputId": "c148e810-1473-45a6-8e26-c1892502c6c8"
      },
      "cell_type": "code",
      "source": [
        "!unzip images.zip"
      ],
      "execution_count": 2,
      "outputs": [
        {
          "output_type": "stream",
          "text": [
            "Archive:  images.zip\n",
            "   creating: images/\n",
            "  inflating: images/p.jpg            \n",
            "  inflating: images/p1.jpg           \n",
            "  inflating: images/p2.jpg           \n",
            "  inflating: images/p3.jpg           \n",
            "  inflating: images/p4.jpg           \n",
            "  inflating: images/p5.jpg           \n",
            "  inflating: images/p6.jpg           \n",
            "  inflating: images/p7.jpg           \n",
            "  inflating: images/p8.jpg           \n"
          ],
          "name": "stdout"
        }
      ]
    },
    {
      "metadata": {
        "id": "coQ0vUzKtrlz",
        "colab_type": "code",
        "colab": {
          "base_uri": "https://localhost:8080/",
          "height": 51
        },
        "outputId": "67fecce9-46b3-4ce9-f4e2-b859b4e26da4"
      },
      "cell_type": "code",
      "source": [
        "!unzip out.zip"
      ],
      "execution_count": 3,
      "outputs": [
        {
          "output_type": "stream",
          "text": [
            "Archive:  out.zip\n",
            "   creating: out/\n"
          ],
          "name": "stdout"
        }
      ]
    },
    {
      "metadata": {
        "id": "ebWoIuy6tyDT",
        "colab_type": "code",
        "colab": {
          "base_uri": "https://localhost:8080/",
          "height": 153
        },
        "outputId": "1ab9d7ad-82b4-40f0-d46f-699652ca6243"
      },
      "cell_type": "code",
      "source": [
        "!unzip yad2k.zip"
      ],
      "execution_count": 4,
      "outputs": [
        {
          "output_type": "stream",
          "text": [
            "Archive:  yad2k.zip\n",
            "   creating: yad2k/\n",
            "   creating: yad2k/models/\n",
            "  inflating: yad2k/models/keras_darknet19.py  \n",
            "  inflating: yad2k/models/keras_yolo.py  \n",
            "   creating: yad2k/utils/\n",
            "  inflating: yad2k/utils/utils.py    \n",
            " extracting: yad2k/utils/__init__.py  \n"
          ],
          "name": "stdout"
        }
      ]
    },
    {
      "metadata": {
        "id": "u11o3GtGt27U",
        "colab_type": "code",
        "colab": {
          "base_uri": "https://localhost:8080/",
          "height": 119
        },
        "outputId": "d3a8714e-637a-48b7-a1f3-5d416df48ba6"
      },
      "cell_type": "code",
      "source": [
        "!unzip model_data.zip"
      ],
      "execution_count": 15,
      "outputs": [
        {
          "output_type": "stream",
          "text": [
            "Archive:  model_data.zip\n",
            "   creating: model_data/\n",
            "  inflating: model_data/coco_classes.txt  \n",
            " extracting: model_data/object_classes.txt  \n",
            "  inflating: model_data/yolo.h5      \n",
            "  inflating: model_data/yolo_anchors.txt  \n"
          ],
          "name": "stdout"
        }
      ]
    },
    {
      "metadata": {
        "id": "_3xfQX7lgOTo",
        "colab_type": "code",
        "colab": {}
      },
      "cell_type": "code",
      "source": [
        "import argparse\n",
        "import os\n",
        "import matplotlib.pyplot as plt\n",
        "from matplotlib.pyplot import imshow\n",
        "import scipy.io\n",
        "import scipy.misc\n",
        "import numpy as np\n",
        "import pandas as pd\n",
        "import PIL\n",
        "import tensorflow as tf\n",
        "from keras import backend as K\n",
        "from keras.layers import Input, Lambda, Conv2D\n",
        "from keras.models import load_model, Model\n",
        "from yolo_utils import read_classes, read_anchors, generate_colors, preprocess_image, draw_boxes, scale_boxes\n",
        "from yad2k.models.keras_yolo import yolo_head, yolo_boxes_to_corners, preprocess_true_boxes, yolo_loss, yolo_body\n",
        "\n",
        "%matplotlib inline"
      ],
      "execution_count": 0,
      "outputs": []
    },
    {
      "metadata": {
        "id": "gyD-yFxsgOTv",
        "colab_type": "text"
      },
      "cell_type": "markdown",
      "source": [
        "**Important Note**: As you can see, we import Keras's backend as K. This means that to use a Keras function in this notebook, you will need to write: `K.function(...)`."
      ]
    },
    {
      "metadata": {
        "id": "mcG8Y9QvgOTw",
        "colab_type": "text"
      },
      "cell_type": "markdown",
      "source": [
        "## 1 - Problem Statement\n",
        "\n",
        "Use Tensor flow to create mass face detection from a group picture or video and count face with audio output\n",
        "\n",
        "\n",
        "here i am using very populer YOLO algorithm which contain lots of classes in which person is one of the class and fro given image it detects the no of faces which maps to the corresponding no of person ."
      ]
    },
    {
      "metadata": {
        "id": "OvR5GO0WgOTx",
        "colab_type": "text"
      },
      "cell_type": "markdown",
      "source": [
        "## 2 - YOLO"
      ]
    },
    {
      "metadata": {
        "id": "8AW_RAbygOTz",
        "colab_type": "text"
      },
      "cell_type": "markdown",
      "source": [
        "YOLO (\"you only look once\") is a popular algoritm because it achieves high accuracy while also being able to run in real-time. This algorithm \"only looks once\" at the image in the sense that it requires only one forward propagation pass through the network to make predictions. After non-max suppression, it then outputs recognized objects together with the bounding boxes.\n",
        "\n",
        "###  Model details\n",
        "\n",
        "First things to know:\n",
        "- The **input** is a batch of images of shape (m, 608, 608, 3)\n",
        "- The **output** is a list of bounding boxes along with the recognized classes. Each bounding box is represented by 6 numbers $(p_c, b_x, b_y, b_h, b_w, c)$ as explained above. If you expand $c$ into an 80-dimensional vector, each bounding box is then represented by 85 numbers. \n",
        "\n",
        "We will use 5 anchor boxes. So you can think of the YOLO architecture as the following: IMAGE (m, 608, 608, 3) -> DEEP CNN -> ENCODING (m, 19, 19, 5, 85).\n",
        "\n",
        "Lets look in greater detail at what this encoding represents. \n",
        "\n",
        "\n",
        "\n",
        "If the center/midpoint of an object falls into a grid cell, that grid cell is responsible for detecting that object."
      ]
    },
    {
      "metadata": {
        "id": "66vgZPzLgOT1",
        "colab_type": "text"
      },
      "cell_type": "markdown",
      "source": [
        "Since we are using 5 anchor boxes, each of the 19 x19 cells thus encodes information about 5 boxes. Anchor boxes are defined only by their width and height.\n",
        "\n",
        "For simplicity, we will flatten the last two last dimensions of the shape (19, 19, 5, 85) encoding. So the output of the Deep CNN is (19, 19, 425).\n",
        "\n"
      ]
    },
    {
      "metadata": {
        "id": "WIbrT-CXgOT3",
        "colab_type": "text"
      },
      "cell_type": "markdown",
      "source": [
        "Now, for each box (of each cell) we will compute the following elementwise product and extract a probability that the box contains a certain class.\n",
        "\n",
        "\n",
        "\n",
        "Here's one way to visualize what YOLO is predicting on an image:\n",
        "- For each of the 19x19 grid cells, find the maximum of the probability scores (taking a max across both the 5 anchor boxes and across different classes). \n",
        "- Color that grid cell according to what object that grid cell considers the most likely.\n",
        "\n",
        "\n",
        "\n",
        "Note that this visualization isn't a core part of the YOLO algorithm itself for making predictions; it's just a nice way of visualizing an intermediate result of the algorithm. \n"
      ]
    },
    {
      "metadata": {
        "id": "AF_FjUzKgOT5",
        "colab_type": "text"
      },
      "cell_type": "markdown",
      "source": [
        "###  Filtering with a threshold on class scores\n",
        " \n",
        "\n",
        "The model gives you a total of 19x19x5x85 numbers, with each box described by 85 numbers. It'll be convenient to rearrange the (19,19,5,85) (or (19,19,425)) dimensional tensor into the following variables:  \n",
        "- `box_confidence`: tensor of shape $(19 \\times 19, 5, 1)$ containing $p_c$ (confidence probability that there's some object) for each of the 5 boxes predicted in each of the 19x19 cells.\n",
        "- `boxes`: tensor of shape $(19 \\times 19, 5, 4)$ containing $(b_x, b_y, b_h, b_w)$ for each of the 5 boxes per cell.\n",
        "- `box_class_probs`: tensor of shape $(19 \\times 19, 5, 80)$ containing the detection probabilities $(c_1, c_2, ... c_{80})$ for each of the 80 classes for each of the 5 boxes per cell.\n",
        "\n"
      ]
    },
    {
      "metadata": {
        "id": "tnQB3ij9gOT7",
        "colab_type": "code",
        "colab": {}
      },
      "cell_type": "code",
      "source": [
        "# GRADED FUNCTION: yolo_filter_boxes\n",
        "\n",
        "def yolo_filter_boxes(box_confidence, boxes, box_class_probs, threshold = .6):\n",
        "    \"\"\"Filters YOLO boxes by thresholding on object and class confidence.\n",
        "    \n",
        "    Arguments:\n",
        "    box_confidence -- tensor of shape (19, 19, 5, 1)\n",
        "    boxes -- tensor of shape (19, 19, 5, 4)\n",
        "    box_class_probs -- tensor of shape (19, 19, 5, 80)\n",
        "    threshold -- real value, if [ highest class probability score < threshold], then get rid of the corresponding box\n",
        "    \n",
        "    Returns:\n",
        "    scores -- tensor of shape (None,), containing the class probability score for selected boxes\n",
        "    boxes -- tensor of shape (None, 4), containing (b_x, b_y, b_h, b_w) coordinates of selected boxes\n",
        "    classes -- tensor of shape (None,), containing the index of the class detected by the selected boxes\n",
        "    \n",
        "    Note: \"None\" is here because you don't know the exact number of selected boxes, as it depends on the threshold. \n",
        "    For example, the actual output size of scores would be (10,) if there are 10 boxes.\n",
        "    \"\"\"\n",
        "    \n",
        "    # Step 1: Compute box scores\n",
        "    ### START CODE HERE ### (≈ 1 line)\n",
        "    box_scores = np.multiply(box_confidence,box_class_probs)\n",
        "    ### END CODE HERE ###\n",
        "    \n",
        "    # Step 2: Find the box_classes thanks to the max box_scores, keep track of the corresponding score\n",
        "    ### START CODE HERE ### (≈ 2 lines)\n",
        "    box_classes = K.argmax(box_scores,axis=-1)\n",
        "    box_class_scores = K.max(box_scores,axis=-1)\n",
        "    ### END CODE HERE ###\n",
        "    \n",
        "    # Step 3: Create a filtering mask based on \"box_class_scores\" by using \"threshold\". The mask should have the\n",
        "    # same dimension as box_class_scores, and be True for the boxes you want to keep (with probability >= threshold)\n",
        "    ### START CODE HERE ### (≈ 1 line)\n",
        "    filtering_mask = K.greater_equal(box_class_scores,threshold)\n",
        "    ### END CODE HERE ###\n",
        "    \n",
        "    # Step 4: Apply the mask to scores, boxes and classes\n",
        "    ### START CODE HERE ### (≈ 3 lines)\n",
        "    scores = tf.boolean_mask(box_class_scores,filtering_mask)\n",
        "    boxes = tf.boolean_mask(boxes,filtering_mask)\n",
        "    classes = tf.boolean_mask(box_classes,filtering_mask)\n",
        "    ### END CODE HERE ###\n",
        "    \n",
        "    return scores, boxes, classes"
      ],
      "execution_count": 0,
      "outputs": []
    },
    {
      "metadata": {
        "id": "mqd-9iLrgOT_",
        "colab_type": "code",
        "colab": {
          "base_uri": "https://localhost:8080/",
          "height": 119
        },
        "outputId": "18f15830-8e09-4a86-e2b9-563ddc8ca769"
      },
      "cell_type": "code",
      "source": [
        "with tf.Session() as test_a:\n",
        "    box_confidence = tf.random_normal([19, 19, 5, 1], mean=1, stddev=4, seed = 1)\n",
        "    boxes = tf.random_normal([19, 19, 5, 4], mean=1, stddev=4, seed = 1)\n",
        "    box_class_probs = tf.random_normal([19, 19, 5, 80], mean=1, stddev=4, seed = 1)\n",
        "    scores, boxes, classes = yolo_filter_boxes(box_confidence, boxes, box_class_probs, threshold = 0.5)\n",
        "    print(\"scores[2] = \" + str(scores[2].eval()))\n",
        "    print(\"boxes[2] = \" + str(boxes[2].eval()))\n",
        "    print(\"classes[2] = \" + str(classes[2].eval()))\n",
        "    print(\"scores.shape = \" + str(scores.shape))\n",
        "    print(\"boxes.shape = \" + str(boxes.shape))\n",
        "    print(\"classes.shape = \" + str(classes.shape))"
      ],
      "execution_count": 26,
      "outputs": [
        {
          "output_type": "stream",
          "text": [
            "scores[2] = 10.750582\n",
            "boxes[2] = [ 8.426533   3.2713668 -0.5313436 -4.9413733]\n",
            "classes[2] = 7\n",
            "scores.shape = (?,)\n",
            "boxes.shape = (?, 4)\n",
            "classes.shape = (?,)\n"
          ],
          "name": "stdout"
        }
      ]
    },
    {
      "metadata": {
        "id": "E1A6XyvDgOUF",
        "colab_type": "text"
      },
      "cell_type": "markdown",
      "source": [
        "### Non-max suppression ###\n",
        "\n",
        "Even after filtering by thresholding over the classes scores, you still end up a lot of overlapping boxes. A second filter for selecting the right boxes is called non-maximum suppression (NMS). "
      ]
    },
    {
      "metadata": {
        "id": "gPrNd6ADgOUI",
        "colab_type": "text"
      },
      "cell_type": "markdown",
      "source": [
        "\n",
        "\n",
        "Implement iou().\n",
        " we define a box using its two corners (upper left and lower right): `(x1, y1, x2, y2)` rather than the midpoint and height/width.\n",
        "- To calculate the area of a rectangle you need to multiply its height `(y2 - y1)` by its width `(x2 - x1)`.\n",
        "- You'll also need to find the coordinates `(xi1, yi1, xi2, yi2)` of the intersection of two boxes. Remember that:\n",
        "    - xi1 = maximum of the x1 coordinates of the two boxes\n",
        "    - yi1 = maximum of the y1 coordinates of the two boxes\n",
        "    - xi2 = minimum of the x2 coordinates of the two boxes\n",
        "    - yi2 = minimum of the y2 coordinates of the two boxes\n",
        "- In order to compute the intersection area, you need to make sure the height and width of the intersection are positive, otherwise the intersection area should be zero. Use `max(height, 0)` and `max(width, 0)`.\n",
        "\n",
        "In this code, we use the convention that (0,0) is the top-left corner of an image, (1,0) is the upper-right corner, and (1,1) the lower-right corner. "
      ]
    },
    {
      "metadata": {
        "id": "lInuDuLDgOUJ",
        "colab_type": "code",
        "colab": {}
      },
      "cell_type": "code",
      "source": [
        "\n",
        "\n",
        "def iou(box1, box2):\n",
        "    \"\"\"Implement the intersection over union (IoU) between box1 and box2\n",
        "    \n",
        "    Arguments:\n",
        "    box1 -- first box, list object with coordinates (x1, y1, x2, y2)\n",
        "    box2 -- second box, list object with coordinates (x1, y1, x2, y2)\n",
        "    \"\"\"\n",
        "\n",
        "    # Calculate the (y1, x1, y2, x2) coordinates of the intersection of box1 and box2. Calculate its Area.\n",
        "    ### START CODE HERE ### (≈ 5 lines)\n",
        "    xi1 = max(box1[0], box2[0])\n",
        "    yi1 = max(box1[1], box2[1])\n",
        "    xi2 = min(box1[2], box2[2])\n",
        "    yi2 = min(box1[3], box2[3])\n",
        "    inter_area = (xi2 - xi1)*(yi2 - yi1)\n",
        "    ### END CODE HERE ###    \n",
        "\n",
        "    # Calculate the Union area by using Formula: Union(A,B) = A + B - Inter(A,B)\n",
        "    ### START CODE HERE ### (≈ 3 lines)\n",
        "    box1_area = (box1[3] - box1[1])*(box1[2]- box1[0])\n",
        "    box2_area = (box2[3] - box2[1])*(box2[2]- box2[0])\n",
        "    union_area = (box1_area + box2_area) - inter_area\n",
        "    ### END CODE HERE ###\n",
        "    \n",
        "    # compute the IoU\n",
        "    ### START CODE HERE ### (≈ 1 line)\n",
        "    iou = inter_area / union_area\n",
        "    ### END CODE HERE ###\n",
        "    \n",
        "    return iou"
      ],
      "execution_count": 0,
      "outputs": []
    },
    {
      "metadata": {
        "id": "A7cxJO1LgOUN",
        "colab_type": "code",
        "colab": {
          "base_uri": "https://localhost:8080/",
          "height": 34
        },
        "outputId": "74a905ba-586b-494f-cedf-ff7359e6b458"
      },
      "cell_type": "code",
      "source": [
        "box1 = (2, 1, 4, 3)\n",
        "box2 = (1, 2, 3, 4) \n",
        "print(\"iou = \" + str(iou(box1, box2)))"
      ],
      "execution_count": 28,
      "outputs": [
        {
          "output_type": "stream",
          "text": [
            "iou = 0.14285714285714285\n"
          ],
          "name": "stdout"
        }
      ]
    },
    {
      "metadata": {
        "id": "5b7hbpD0gOUR",
        "colab_type": "text"
      },
      "cell_type": "markdown",
      "source": [
        ""
      ]
    },
    {
      "metadata": {
        "id": "JksxjEKTgOUS",
        "colab_type": "text"
      },
      "cell_type": "markdown",
      "source": [
        "You are now ready to implement non-max suppression. The key steps are: \n",
        "1. Select the box that has the highest score.\n",
        "2. Compute its overlap with all other boxes, and remove boxes that overlap it more than `iou_threshold`.\n",
        "3. Go back to step 1 and iterate until there's no more boxes with a lower score than the current selected box.\n",
        "\n",
        "This will remove all boxes that have a large overlap with the selected boxes. Only the \"best\" boxes remain.\n",
        "\n"
      ]
    },
    {
      "metadata": {
        "id": "Q6jbOAf9gOUU",
        "colab_type": "code",
        "colab": {}
      },
      "cell_type": "code",
      "source": [
        "\n",
        "\n",
        "def yolo_non_max_suppression(scores, boxes, classes, max_boxes = 10, iou_threshold = 0.5):\n",
        "    \"\"\"\n",
        "    Applies Non-max suppression (NMS) to set of boxes\n",
        "    \n",
        "    Arguments:\n",
        "    scores -- tensor of shape (None,), output of yolo_filter_boxes()\n",
        "    boxes -- tensor of shape (None, 4), output of yolo_filter_boxes() that have been scaled to the image size (see later)\n",
        "    classes -- tensor of shape (None,), output of yolo_filter_boxes()\n",
        "    max_boxes -- integer, maximum number of predicted boxes you'd like\n",
        "    iou_threshold -- real value, \"intersection over union\" threshold used for NMS filtering\n",
        "    \n",
        "    Returns:\n",
        "    scores -- tensor of shape (, None), predicted score for each box\n",
        "    boxes -- tensor of shape (4, None), predicted box coordinates\n",
        "    classes -- tensor of shape (, None), predicted class for each box\n",
        "    \n",
        "    Note: The \"None\" dimension of the output tensors has obviously to be less than max_boxes. Note also that this\n",
        "    function will transpose the shapes of scores, boxes, classes. This is made for convenience.\n",
        "    \"\"\"\n",
        "    \n",
        "    max_boxes_tensor = K.variable(max_boxes, dtype='int32')     # tensor to be used in tf.image.non_max_suppression()\n",
        "    K.get_session().run(tf.variables_initializer([max_boxes_tensor])) # initialize variable max_boxes_tensor\n",
        "    \n",
        "    # Use tf.image.non_max_suppression() to get the list of indices corresponding to boxes you keep\n",
        "    ### START CODE HERE ### (≈ 1 line)\n",
        "    nms_indices = tf.image.non_max_suppression(boxes, scores, max_boxes_tensor, iou_threshold=iou_threshold)\n",
        "    ### END CODE HERE ###\n",
        "    \n",
        "    # Use K.gather() to select only nms_indices from scores, boxes and classes\n",
        "    ### START CODE HERE ### (≈ 3 lines)\n",
        "    scores = K.gather(scores,nms_indices)\n",
        "    boxes = K.gather(boxes,nms_indices)\n",
        "    classes = K.gather(classes,nms_indices)\n",
        "    ### END CODE HERE ###\n",
        "    \n",
        "    return scores, boxes, classes"
      ],
      "execution_count": 0,
      "outputs": []
    },
    {
      "metadata": {
        "id": "7MdLNj4hgOUb",
        "colab_type": "code",
        "colab": {
          "base_uri": "https://localhost:8080/",
          "height": 119
        },
        "outputId": "99cfe734-5ca3-40d6-985e-60561d3bc882"
      },
      "cell_type": "code",
      "source": [
        "with tf.Session() as test_b:\n",
        "    scores = tf.random_normal([54,], mean=1, stddev=4, seed = 1)\n",
        "    boxes = tf.random_normal([54, 4], mean=1, stddev=4, seed = 1)\n",
        "    classes = tf.random_normal([54,], mean=1, stddev=4, seed = 1)\n",
        "    scores, boxes, classes = yolo_non_max_suppression(scores, boxes, classes)\n",
        "    print(\"scores[2] = \" + str(scores[2].eval()))\n",
        "    print(\"boxes[2] = \" + str(boxes[2].eval()))\n",
        "    print(\"classes[2] = \" + str(classes[2].eval()))\n",
        "    print(\"scores.shape = \" + str(scores.eval().shape))\n",
        "    print(\"boxes.shape = \" + str(boxes.eval().shape))\n",
        "    print(\"classes.shape = \" + str(classes.eval().shape))"
      ],
      "execution_count": 30,
      "outputs": [
        {
          "output_type": "stream",
          "text": [
            "scores[2] = 6.938395\n",
            "boxes[2] = [-5.299932    3.1379814   4.450367    0.95942086]\n",
            "classes[2] = -2.2452729\n",
            "scores.shape = (10,)\n",
            "boxes.shape = (10, 4)\n",
            "classes.shape = (10,)\n"
          ],
          "name": "stdout"
        }
      ]
    },
    {
      "metadata": {
        "id": "UFXVkzG3gOUn",
        "colab_type": "text"
      },
      "cell_type": "markdown",
      "source": [
        "###  Wrapping up the filtering\n",
        "\n",
        "It's time to implement a function taking the output of the deep CNN (the 19x19x5x85 dimensional encoding) and filtering through all the boxes using the functions you've just implemented. \n",
        "\n",
        "Implement `yolo_eval()` which takes the output of the YOLO encoding and filters the boxes using score threshold and NMS. There's just one last implementational detail you have to know. There're a few ways of representing boxes, such as via their corners or via their midpoint and height/width. YOLO converts between a few such formats at different times, using the following functions (which we have provided): \n",
        "\n",
        "```python\n",
        "boxes = yolo_boxes_to_corners(box_xy, box_wh) \n",
        "```\n",
        "which converts the yolo box coordinates (x,y,w,h) to box corners' coordinates (x1, y1, x2, y2) to fit the input of `yolo_filter_boxes`\n",
        "```python\n",
        "boxes = scale_boxes(boxes, image_shape)\n",
        "```\n",
        "YOLO's network was trained to run on 608x608 images. If you are testing this data on a different size image--for example, the car detection dataset had 720x1280 images--this step rescales the boxes so that they can be plotted on top of the original 720x1280 image.  \n",
        "\n"
      ]
    },
    {
      "metadata": {
        "id": "f1uq26RmgOUp",
        "colab_type": "code",
        "colab": {}
      },
      "cell_type": "code",
      "source": [
        "# GRADED FUNCTION: yolo_eval\n",
        "\n",
        "def yolo_eval(yolo_outputs, image_shape = (720., 1280.), max_boxes=10, score_threshold=.6, iou_threshold=.5):\n",
        "    \"\"\"\n",
        "    Converts the output of YOLO encoding (a lot of boxes) to your predicted boxes along with their scores, box coordinates and classes.\n",
        "    \n",
        "    Arguments:\n",
        "    yolo_outputs -- output of the encoding model (for image_shape of (608, 608, 3)), contains 4 tensors:\n",
        "                    box_confidence: tensor of shape (None, 19, 19, 5, 1)\n",
        "                    box_xy: tensor of shape (None, 19, 19, 5, 2)\n",
        "                    box_wh: tensor of shape (None, 19, 19, 5, 2)\n",
        "                    box_class_probs: tensor of shape (None, 19, 19, 5, 80)\n",
        "    image_shape -- tensor of shape (2,) containing the input shape, in this notebook we use (608., 608.) (has to be float32 dtype)\n",
        "    max_boxes -- integer, maximum number of predicted boxes you'd like\n",
        "    score_threshold -- real value, if [ highest class probability score < threshold], then get rid of the corresponding box\n",
        "    iou_threshold -- real value, \"intersection over union\" threshold used for NMS filtering\n",
        "    \n",
        "    Returns:\n",
        "    scores -- tensor of shape (None, ), predicted score for each box\n",
        "    boxes -- tensor of shape (None, 4), predicted box coordinates\n",
        "    classes -- tensor of shape (None,), predicted class for each box\n",
        "    \"\"\"\n",
        "    \n",
        "    ### START CODE HERE ### \n",
        "    \n",
        "    # Retrieve outputs of the YOLO model (≈1 line)\n",
        "    box_confidence, box_xy, box_wh, box_class_probs = yolo_outputs\n",
        "\n",
        "    # Convert boxes to be ready for filtering functions \n",
        "    boxes = yolo_boxes_to_corners(box_xy, box_wh)\n",
        "\n",
        "    # Use one of the functions you've implemented to perform Score-filtering with a threshold of score_threshold (≈1 line)\n",
        "    scores, boxes, classes = yolo_filter_boxes(box_confidence, boxes, box_class_probs, threshold = score_threshold)\n",
        "    \n",
        "    # Scale boxes back to original image shape.\n",
        "    boxes = scale_boxes(boxes, image_shape)\n",
        "\n",
        "    # Use one of the functions you've implemented to perform Non-max suppression with a threshold of iou_threshold (≈1 line)\n",
        "    scores, boxes, classes = yolo_non_max_suppression(scores, boxes, classes, max_boxes = max_boxes, iou_threshold = iou_threshold)\n",
        "    \n",
        "    \n",
        "    ### END CODE HERE ###\n",
        "    \n",
        "    return scores, boxes, classes"
      ],
      "execution_count": 0,
      "outputs": []
    },
    {
      "metadata": {
        "id": "PDWBMO6igOUu",
        "colab_type": "code",
        "colab": {
          "base_uri": "https://localhost:8080/",
          "height": 119
        },
        "outputId": "b7234c57-c407-47b5-a0d1-a42755e6b151"
      },
      "cell_type": "code",
      "source": [
        "with tf.Session() as test_b:\n",
        "    yolo_outputs = (tf.random_normal([19, 19, 5, 1], mean=1, stddev=4, seed = 1),\n",
        "                    tf.random_normal([19, 19, 5, 2], mean=1, stddev=4, seed = 1),\n",
        "                    tf.random_normal([19, 19, 5, 2], mean=1, stddev=4, seed = 1),\n",
        "                    tf.random_normal([19, 19, 5, 80], mean=1, stddev=4, seed = 1))\n",
        "    scores, boxes, classes = yolo_eval(yolo_outputs)\n",
        "    print(\"scores[2] = \" + str(scores[2].eval()))\n",
        "    print(\"boxes[2] = \" + str(boxes[2].eval()))\n",
        "    print(\"classes[2] = \" + str(classes[2].eval()))\n",
        "    print(\"scores.shape = \" + str(scores.eval().shape))\n",
        "    print(\"boxes.shape = \" + str(boxes.eval().shape))\n",
        "    print(\"classes.shape = \" + str(classes.eval().shape))"
      ],
      "execution_count": 32,
      "outputs": [
        {
          "output_type": "stream",
          "text": [
            "scores[2] = 138.79124\n",
            "boxes[2] = [1292.3297  -278.52167 3876.9893  -835.56494]\n",
            "classes[2] = 54\n",
            "scores.shape = (10,)\n",
            "boxes.shape = (10, 4)\n",
            "classes.shape = (10,)\n"
          ],
          "name": "stdout"
        }
      ]
    },
    {
      "metadata": {
        "collapsed": true,
        "id": "-1c4eLZvgOU1",
        "colab_type": "text"
      },
      "cell_type": "markdown",
      "source": [
        "**Expected Output**:\n",
        "\n",
        "<table>\n",
        "    <tr>\n",
        "        <td>\n",
        "            **scores[2]**\n",
        "        </td>\n",
        "        <td>\n",
        "           138.791\n",
        "        </td>\n",
        "    </tr>\n",
        "    <tr>\n",
        "        <td>\n",
        "            **boxes[2]**\n",
        "        </td>\n",
        "        <td>\n",
        "           [ 1292.32971191  -278.52166748  3876.98925781  -835.56494141]\n",
        "        </td>\n",
        "    </tr>\n",
        "\n",
        "    <tr>\n",
        "        <td>\n",
        "            **classes[2]**\n",
        "        </td>\n",
        "        <td>\n",
        "           54\n",
        "        </td>\n",
        "    </tr>\n",
        "        <tr>\n",
        "        <td>\n",
        "            **scores.shape**\n",
        "        </td>\n",
        "        <td>\n",
        "           (10,)\n",
        "        </td>\n",
        "    </tr>\n",
        "    <tr>\n",
        "        <td>\n",
        "            **boxes.shape**\n",
        "        </td>\n",
        "        <td>\n",
        "           (10, 4)\n",
        "        </td>\n",
        "    </tr>\n",
        "\n",
        "    <tr>\n",
        "        <td>\n",
        "            **classes.shape**\n",
        "        </td>\n",
        "        <td>\n",
        "           (10,)\n",
        "        </td>\n",
        "    </tr>\n",
        "\n",
        "</table>"
      ]
    },
    {
      "metadata": {
        "id": "1avDFHLOgOU2",
        "colab_type": "text"
      },
      "cell_type": "markdown",
      "source": [
        "<font color='blue'>\n",
        "**Summary for YOLO**:\n",
        "- Input image (608, 608, 3)\n",
        "- The input image goes through a CNN, resulting in a (19,19,5,85) dimensional output. \n",
        "- After flattening the last two dimensions, the output is a volume of shape (19, 19, 425):\n",
        "    - Each cell in a 19x19 grid over the input image gives 425 numbers. \n",
        "    - 425 = 5 x 85 because each cell contains predictions for 5 boxes, corresponding to 5 anchor boxes, as seen in lecture. \n",
        "    - 85 = 5 + 80 where 5 is because $(p_c, b_x, b_y, b_h, b_w)$ has 5 numbers, and and 80 is the number of classes we'd like to detect\n",
        "- You then select only few boxes based on:\n",
        "    - Score-thresholding: throw away boxes that have detected a class with a score less than the threshold\n",
        "    - Non-max suppression: Compute the Intersection over Union and avoid selecting overlapping boxes\n",
        "- This gives you YOLO's final output. "
      ]
    },
    {
      "metadata": {
        "id": "X-Sir-N7gOU3",
        "colab_type": "text"
      },
      "cell_type": "markdown",
      "source": [
        "## 3 - Test YOLO pretrained model on images"
      ]
    },
    {
      "metadata": {
        "id": "sRONGDmSgOU5",
        "colab_type": "text"
      },
      "cell_type": "markdown",
      "source": [
        "In this part, you are going to use a pretrained model and test it on the car detection dataset. As usual, you start by **creating a session to start your graph**. Run the following cell."
      ]
    },
    {
      "metadata": {
        "id": "FwSjGh41gOU7",
        "colab_type": "code",
        "colab": {}
      },
      "cell_type": "code",
      "source": [
        "sess = K.get_session()"
      ],
      "execution_count": 0,
      "outputs": []
    },
    {
      "metadata": {
        "id": "g-q-sNUvgOVA",
        "colab_type": "text"
      },
      "cell_type": "markdown",
      "source": [
        "### 3.1 - Defining classes, anchors and image shape."
      ]
    },
    {
      "metadata": {
        "id": "8uAA3m_wgOVC",
        "colab_type": "text"
      },
      "cell_type": "markdown",
      "source": [
        "Recall that we are trying to detect 80 classes, and are using 5 anchor boxes. We have gathered the information about the 80 classes and 5 boxes in two files \"coco_classes.txt\" and \"yolo_anchors.txt\". Let's load these quantities into the model by running the next cell. \n",
        "\n",
        "The car detection dataset has 720x1280 images, which we've pre-processed into 608x608 images. "
      ]
    },
    {
      "metadata": {
        "id": "ojOQpUKbgOVG",
        "colab_type": "code",
        "colab": {}
      },
      "cell_type": "code",
      "source": [
        "class_names = read_classes(\"model_data/coco_classes.txt\")\n",
        "anchors = read_anchors(\"model_data/yolo_anchors.txt\")\n",
        "image_shape = (720., 1280.)    "
      ],
      "execution_count": 0,
      "outputs": []
    },
    {
      "metadata": {
        "id": "WGYQTuUYgOVW",
        "colab_type": "text"
      },
      "cell_type": "markdown",
      "source": [
        "### 3.2 - Loading a pretrained model\n",
        "\n",
        "Training a YOLO model takes a very long time and requires a fairly large dataset of labelled bounding boxes for a large range of target classes. You are going to load an existing pretrained Keras YOLO model stored in \"yolo.h5\". (These weights come from the official YOLO website, and were converted using a function written by Allan Zelener. References are at the end of this notebook. Technically, these are the parameters from the \"YOLOv2\" model, but we will more simply refer to it as \"YOLO\" in this notebook.) Run the cell below to load the model from this file."
      ]
    },
    {
      "metadata": {
        "id": "NafSRUqQgOVb",
        "colab_type": "code",
        "colab": {
          "base_uri": "https://localhost:8080/",
          "height": 71
        },
        "outputId": "b6872db2-3237-483b-c237-7deaf9e8096f"
      },
      "cell_type": "code",
      "source": [
        "yolo_model = load_model(\"model_data/yolo.h5\")"
      ],
      "execution_count": 35,
      "outputs": [
        {
          "output_type": "stream",
          "text": [
            "/usr/local/lib/python3.6/dist-packages/keras/engine/saving.py:292: UserWarning: No training configuration found in save file: the model was *not* compiled. Compile it manually.\n",
            "  warnings.warn('No training configuration found in save file: '\n"
          ],
          "name": "stderr"
        }
      ]
    },
    {
      "metadata": {
        "id": "jdjKm3BFgOVj",
        "colab_type": "text"
      },
      "cell_type": "markdown",
      "source": [
        "This loads the weights of a trained YOLO model. Here's a summary of the layers your model contains."
      ]
    },
    {
      "metadata": {
        "id": "cLupkHS_gOVk",
        "colab_type": "code",
        "colab": {
          "base_uri": "https://localhost:8080/",
          "height": 2703
        },
        "outputId": "006bf74c-e1f8-4b3a-bb6d-10fff4e1de00"
      },
      "cell_type": "code",
      "source": [
        "yolo_model.summary()"
      ],
      "execution_count": 36,
      "outputs": [
        {
          "output_type": "stream",
          "text": [
            "__________________________________________________________________________________________________\n",
            "Layer (type)                    Output Shape         Param #     Connected to                     \n",
            "==================================================================================================\n",
            "input_1 (InputLayer)            (None, 608, 608, 3)  0                                            \n",
            "__________________________________________________________________________________________________\n",
            "conv2d_1 (Conv2D)               (None, 608, 608, 32) 864         input_1[0][0]                    \n",
            "__________________________________________________________________________________________________\n",
            "batch_normalization_1 (BatchNor (None, 608, 608, 32) 128         conv2d_1[0][0]                   \n",
            "__________________________________________________________________________________________________\n",
            "leaky_re_lu_1 (LeakyReLU)       (None, 608, 608, 32) 0           batch_normalization_1[0][0]      \n",
            "__________________________________________________________________________________________________\n",
            "max_pooling2d_1 (MaxPooling2D)  (None, 304, 304, 32) 0           leaky_re_lu_1[0][0]              \n",
            "__________________________________________________________________________________________________\n",
            "conv2d_2 (Conv2D)               (None, 304, 304, 64) 18432       max_pooling2d_1[0][0]            \n",
            "__________________________________________________________________________________________________\n",
            "batch_normalization_2 (BatchNor (None, 304, 304, 64) 256         conv2d_2[0][0]                   \n",
            "__________________________________________________________________________________________________\n",
            "leaky_re_lu_2 (LeakyReLU)       (None, 304, 304, 64) 0           batch_normalization_2[0][0]      \n",
            "__________________________________________________________________________________________________\n",
            "max_pooling2d_2 (MaxPooling2D)  (None, 152, 152, 64) 0           leaky_re_lu_2[0][0]              \n",
            "__________________________________________________________________________________________________\n",
            "conv2d_3 (Conv2D)               (None, 152, 152, 128 73728       max_pooling2d_2[0][0]            \n",
            "__________________________________________________________________________________________________\n",
            "batch_normalization_3 (BatchNor (None, 152, 152, 128 512         conv2d_3[0][0]                   \n",
            "__________________________________________________________________________________________________\n",
            "leaky_re_lu_3 (LeakyReLU)       (None, 152, 152, 128 0           batch_normalization_3[0][0]      \n",
            "__________________________________________________________________________________________________\n",
            "conv2d_4 (Conv2D)               (None, 152, 152, 64) 8192        leaky_re_lu_3[0][0]              \n",
            "__________________________________________________________________________________________________\n",
            "batch_normalization_4 (BatchNor (None, 152, 152, 64) 256         conv2d_4[0][0]                   \n",
            "__________________________________________________________________________________________________\n",
            "leaky_re_lu_4 (LeakyReLU)       (None, 152, 152, 64) 0           batch_normalization_4[0][0]      \n",
            "__________________________________________________________________________________________________\n",
            "conv2d_5 (Conv2D)               (None, 152, 152, 128 73728       leaky_re_lu_4[0][0]              \n",
            "__________________________________________________________________________________________________\n",
            "batch_normalization_5 (BatchNor (None, 152, 152, 128 512         conv2d_5[0][0]                   \n",
            "__________________________________________________________________________________________________\n",
            "leaky_re_lu_5 (LeakyReLU)       (None, 152, 152, 128 0           batch_normalization_5[0][0]      \n",
            "__________________________________________________________________________________________________\n",
            "max_pooling2d_3 (MaxPooling2D)  (None, 76, 76, 128)  0           leaky_re_lu_5[0][0]              \n",
            "__________________________________________________________________________________________________\n",
            "conv2d_6 (Conv2D)               (None, 76, 76, 256)  294912      max_pooling2d_3[0][0]            \n",
            "__________________________________________________________________________________________________\n",
            "batch_normalization_6 (BatchNor (None, 76, 76, 256)  1024        conv2d_6[0][0]                   \n",
            "__________________________________________________________________________________________________\n",
            "leaky_re_lu_6 (LeakyReLU)       (None, 76, 76, 256)  0           batch_normalization_6[0][0]      \n",
            "__________________________________________________________________________________________________\n",
            "conv2d_7 (Conv2D)               (None, 76, 76, 128)  32768       leaky_re_lu_6[0][0]              \n",
            "__________________________________________________________________________________________________\n",
            "batch_normalization_7 (BatchNor (None, 76, 76, 128)  512         conv2d_7[0][0]                   \n",
            "__________________________________________________________________________________________________\n",
            "leaky_re_lu_7 (LeakyReLU)       (None, 76, 76, 128)  0           batch_normalization_7[0][0]      \n",
            "__________________________________________________________________________________________________\n",
            "conv2d_8 (Conv2D)               (None, 76, 76, 256)  294912      leaky_re_lu_7[0][0]              \n",
            "__________________________________________________________________________________________________\n",
            "batch_normalization_8 (BatchNor (None, 76, 76, 256)  1024        conv2d_8[0][0]                   \n",
            "__________________________________________________________________________________________________\n",
            "leaky_re_lu_8 (LeakyReLU)       (None, 76, 76, 256)  0           batch_normalization_8[0][0]      \n",
            "__________________________________________________________________________________________________\n",
            "max_pooling2d_4 (MaxPooling2D)  (None, 38, 38, 256)  0           leaky_re_lu_8[0][0]              \n",
            "__________________________________________________________________________________________________\n",
            "conv2d_9 (Conv2D)               (None, 38, 38, 512)  1179648     max_pooling2d_4[0][0]            \n",
            "__________________________________________________________________________________________________\n",
            "batch_normalization_9 (BatchNor (None, 38, 38, 512)  2048        conv2d_9[0][0]                   \n",
            "__________________________________________________________________________________________________\n",
            "leaky_re_lu_9 (LeakyReLU)       (None, 38, 38, 512)  0           batch_normalization_9[0][0]      \n",
            "__________________________________________________________________________________________________\n",
            "conv2d_10 (Conv2D)              (None, 38, 38, 256)  131072      leaky_re_lu_9[0][0]              \n",
            "__________________________________________________________________________________________________\n",
            "batch_normalization_10 (BatchNo (None, 38, 38, 256)  1024        conv2d_10[0][0]                  \n",
            "__________________________________________________________________________________________________\n",
            "leaky_re_lu_10 (LeakyReLU)      (None, 38, 38, 256)  0           batch_normalization_10[0][0]     \n",
            "__________________________________________________________________________________________________\n",
            "conv2d_11 (Conv2D)              (None, 38, 38, 512)  1179648     leaky_re_lu_10[0][0]             \n",
            "__________________________________________________________________________________________________\n",
            "batch_normalization_11 (BatchNo (None, 38, 38, 512)  2048        conv2d_11[0][0]                  \n",
            "__________________________________________________________________________________________________\n",
            "leaky_re_lu_11 (LeakyReLU)      (None, 38, 38, 512)  0           batch_normalization_11[0][0]     \n",
            "__________________________________________________________________________________________________\n",
            "conv2d_12 (Conv2D)              (None, 38, 38, 256)  131072      leaky_re_lu_11[0][0]             \n",
            "__________________________________________________________________________________________________\n",
            "batch_normalization_12 (BatchNo (None, 38, 38, 256)  1024        conv2d_12[0][0]                  \n",
            "__________________________________________________________________________________________________\n",
            "leaky_re_lu_12 (LeakyReLU)      (None, 38, 38, 256)  0           batch_normalization_12[0][0]     \n",
            "__________________________________________________________________________________________________\n",
            "conv2d_13 (Conv2D)              (None, 38, 38, 512)  1179648     leaky_re_lu_12[0][0]             \n",
            "__________________________________________________________________________________________________\n",
            "batch_normalization_13 (BatchNo (None, 38, 38, 512)  2048        conv2d_13[0][0]                  \n",
            "__________________________________________________________________________________________________\n",
            "leaky_re_lu_13 (LeakyReLU)      (None, 38, 38, 512)  0           batch_normalization_13[0][0]     \n",
            "__________________________________________________________________________________________________\n",
            "max_pooling2d_5 (MaxPooling2D)  (None, 19, 19, 512)  0           leaky_re_lu_13[0][0]             \n",
            "__________________________________________________________________________________________________\n",
            "conv2d_14 (Conv2D)              (None, 19, 19, 1024) 4718592     max_pooling2d_5[0][0]            \n",
            "__________________________________________________________________________________________________\n",
            "batch_normalization_14 (BatchNo (None, 19, 19, 1024) 4096        conv2d_14[0][0]                  \n",
            "__________________________________________________________________________________________________\n",
            "leaky_re_lu_14 (LeakyReLU)      (None, 19, 19, 1024) 0           batch_normalization_14[0][0]     \n",
            "__________________________________________________________________________________________________\n",
            "conv2d_15 (Conv2D)              (None, 19, 19, 512)  524288      leaky_re_lu_14[0][0]             \n",
            "__________________________________________________________________________________________________\n",
            "batch_normalization_15 (BatchNo (None, 19, 19, 512)  2048        conv2d_15[0][0]                  \n",
            "__________________________________________________________________________________________________\n",
            "leaky_re_lu_15 (LeakyReLU)      (None, 19, 19, 512)  0           batch_normalization_15[0][0]     \n",
            "__________________________________________________________________________________________________\n",
            "conv2d_16 (Conv2D)              (None, 19, 19, 1024) 4718592     leaky_re_lu_15[0][0]             \n",
            "__________________________________________________________________________________________________\n",
            "batch_normalization_16 (BatchNo (None, 19, 19, 1024) 4096        conv2d_16[0][0]                  \n",
            "__________________________________________________________________________________________________\n",
            "leaky_re_lu_16 (LeakyReLU)      (None, 19, 19, 1024) 0           batch_normalization_16[0][0]     \n",
            "__________________________________________________________________________________________________\n",
            "conv2d_17 (Conv2D)              (None, 19, 19, 512)  524288      leaky_re_lu_16[0][0]             \n",
            "__________________________________________________________________________________________________\n",
            "batch_normalization_17 (BatchNo (None, 19, 19, 512)  2048        conv2d_17[0][0]                  \n",
            "__________________________________________________________________________________________________\n",
            "leaky_re_lu_17 (LeakyReLU)      (None, 19, 19, 512)  0           batch_normalization_17[0][0]     \n",
            "__________________________________________________________________________________________________\n",
            "conv2d_18 (Conv2D)              (None, 19, 19, 1024) 4718592     leaky_re_lu_17[0][0]             \n",
            "__________________________________________________________________________________________________\n",
            "batch_normalization_18 (BatchNo (None, 19, 19, 1024) 4096        conv2d_18[0][0]                  \n",
            "__________________________________________________________________________________________________\n",
            "leaky_re_lu_18 (LeakyReLU)      (None, 19, 19, 1024) 0           batch_normalization_18[0][0]     \n",
            "__________________________________________________________________________________________________\n",
            "conv2d_19 (Conv2D)              (None, 19, 19, 1024) 9437184     leaky_re_lu_18[0][0]             \n",
            "__________________________________________________________________________________________________\n",
            "batch_normalization_19 (BatchNo (None, 19, 19, 1024) 4096        conv2d_19[0][0]                  \n",
            "__________________________________________________________________________________________________\n",
            "conv2d_21 (Conv2D)              (None, 38, 38, 64)   32768       leaky_re_lu_13[0][0]             \n",
            "__________________________________________________________________________________________________\n",
            "leaky_re_lu_19 (LeakyReLU)      (None, 19, 19, 1024) 0           batch_normalization_19[0][0]     \n",
            "__________________________________________________________________________________________________\n",
            "batch_normalization_21 (BatchNo (None, 38, 38, 64)   256         conv2d_21[0][0]                  \n",
            "__________________________________________________________________________________________________\n",
            "conv2d_20 (Conv2D)              (None, 19, 19, 1024) 9437184     leaky_re_lu_19[0][0]             \n",
            "__________________________________________________________________________________________________\n",
            "leaky_re_lu_21 (LeakyReLU)      (None, 38, 38, 64)   0           batch_normalization_21[0][0]     \n",
            "__________________________________________________________________________________________________\n",
            "batch_normalization_20 (BatchNo (None, 19, 19, 1024) 4096        conv2d_20[0][0]                  \n",
            "__________________________________________________________________________________________________\n",
            "space_to_depth_x2 (Lambda)      (None, 19, 19, 256)  0           leaky_re_lu_21[0][0]             \n",
            "__________________________________________________________________________________________________\n",
            "leaky_re_lu_20 (LeakyReLU)      (None, 19, 19, 1024) 0           batch_normalization_20[0][0]     \n",
            "__________________________________________________________________________________________________\n",
            "concatenate_1 (Concatenate)     (None, 19, 19, 1280) 0           space_to_depth_x2[0][0]          \n",
            "                                                                 leaky_re_lu_20[0][0]             \n",
            "__________________________________________________________________________________________________\n",
            "conv2d_22 (Conv2D)              (None, 19, 19, 1024) 11796480    concatenate_1[0][0]              \n",
            "__________________________________________________________________________________________________\n",
            "batch_normalization_22 (BatchNo (None, 19, 19, 1024) 4096        conv2d_22[0][0]                  \n",
            "__________________________________________________________________________________________________\n",
            "leaky_re_lu_22 (LeakyReLU)      (None, 19, 19, 1024) 0           batch_normalization_22[0][0]     \n",
            "__________________________________________________________________________________________________\n",
            "conv2d_23 (Conv2D)              (None, 19, 19, 425)  435625      leaky_re_lu_22[0][0]             \n",
            "==================================================================================================\n",
            "Total params: 50,983,561\n",
            "Trainable params: 50,962,889\n",
            "Non-trainable params: 20,672\n",
            "__________________________________________________________________________________________________\n"
          ],
          "name": "stdout"
        }
      ]
    },
    {
      "metadata": {
        "id": "o-taT9yjgOVr",
        "colab_type": "text"
      },
      "cell_type": "markdown",
      "source": [
        "**Note**: On some computers, you may see a warning message from Keras. Don't worry about it if you do--it is fine.\n"
      ]
    },
    {
      "metadata": {
        "id": "QOkR3vARgOVt",
        "colab_type": "text"
      },
      "cell_type": "markdown",
      "source": [
        "### 3.3 - Convert output of the model to usable bounding box tensors\n",
        "\n",
        "The output of `yolo_model` is a (m, 19, 19, 5, 85) tensor that needs to pass through non-trivial processing and conversion. The following cell does that for you."
      ]
    },
    {
      "metadata": {
        "id": "tdnhyPuIgOVu",
        "colab_type": "code",
        "colab": {}
      },
      "cell_type": "code",
      "source": [
        "yolo_outputs = yolo_head(yolo_model.output, anchors, len(class_names))"
      ],
      "execution_count": 0,
      "outputs": []
    },
    {
      "metadata": {
        "id": "wGSnb9DmgOVz",
        "colab_type": "text"
      },
      "cell_type": "markdown",
      "source": [
        "You added `yolo_outputs` to your graph. This set of 4 tensors is ready to be used as input by your `yolo_eval` function."
      ]
    },
    {
      "metadata": {
        "id": "v0tFKKLJgOV0",
        "colab_type": "text"
      },
      "cell_type": "markdown",
      "source": [
        "### 3.4 - Filtering boxes\n",
        "\n",
        "`yolo_outputs` gave you all the predicted boxes of `yolo_model` in the correct format. You're now ready to perform filtering and select only the best boxes. Lets now call `yolo_eval`, which you had previously implemented, to do this. "
      ]
    },
    {
      "metadata": {
        "id": "CNYJ4E-ogOV1",
        "colab_type": "code",
        "colab": {}
      },
      "cell_type": "code",
      "source": [
        "scores, boxes, classes = yolo_eval(yolo_outputs, image_shape)"
      ],
      "execution_count": 0,
      "outputs": []
    },
    {
      "metadata": {
        "id": "z4l3hH65gOV5",
        "colab_type": "text"
      },
      "cell_type": "markdown",
      "source": [
        "\n",
        "**Important note**: when a model uses BatchNorm (as is the case in YOLO), you will need to pass an additional placeholder in the feed_dict {K.learning_phase(): 0}."
      ]
    },
    {
      "metadata": {
        "id": "1oSfY1pAgOV6",
        "colab_type": "code",
        "colab": {}
      },
      "cell_type": "code",
      "source": [
        "def predict(sess, image_file):\n",
        "    \"\"\"\n",
        "    Runs the graph stored in \"sess\" to predict boxes for \"image_file\". Prints and plots the preditions.\n",
        "    \n",
        "    Arguments:\n",
        "    sess -- your tensorflow/Keras session containing the YOLO graph\n",
        "    image_file -- name of an image stored in the \"images\" folder.\n",
        "    \n",
        "    Returns:\n",
        "    out_scores -- tensor of shape (None, ), scores of the predicted boxes\n",
        "    out_boxes -- tensor of shape (None, 4), coordinates of the predicted boxes\n",
        "    out_classes -- tensor of shape (None, ), class index of the predicted boxes\n",
        "    \n",
        "    Note: \"None\" actually represents the number of predicted boxes, it varies between 0 and max_boxes. \n",
        "    \"\"\"\n",
        "\n",
        "    # Preprocess your image\n",
        "    image, image_data = preprocess_image(\"images/\" + image_file, model_image_size = (608, 608))\n",
        "\n",
        "    # Run the session with the correct tensors and choose the correct placeholders in the feed_dict.\n",
        "    # You'll need to use feed_dict={yolo_model.input: ... , K.learning_phase(): 0})\n",
        "    ### START CODE HERE ### (≈ 1 line)\n",
        "    out_scores, out_boxes, out_classes = sess.run([scores, boxes, classes], feed_dict={yolo_model.input: image_data, K.learning_phase(): 0})\n",
        "    ### END CODE HERE ###\n",
        "\n",
        "    # Print predictions info\n",
        "    print('Found {} boxes for {}'.format(len(out_boxes), image_file))\n",
        "    # Generate colors for drawing bounding boxes.\n",
        "    colors = generate_colors(class_names)\n",
        "    # Draw bounding boxes on the image file\n",
        "    draw_boxes(image, out_scores, out_boxes, out_classes, class_names, colors)\n",
        "    # Save the predicted bounding box on the image\n",
        "    image.save(os.path.join(\"out\", image_file), quality=90)\n",
        "    # Display the results in the notebook\n",
        "    output_image = scipy.misc.imread(os.path.join(\"out\", image_file))\n",
        "    imshow(output_image)\n",
        "    \n",
        "    return out_scores, out_boxes, out_classes"
      ],
      "execution_count": 0,
      "outputs": []
    },
    {
      "metadata": {
        "id": "0kYI8YM9gOV-",
        "colab_type": "text"
      },
      "cell_type": "markdown",
      "source": [
        "Run the following cell on the \"test.jpg\" image to verify that your function is correct."
      ]
    },
    {
      "metadata": {
        "scrolled": false,
        "id": "aM8vH71jgOV_",
        "colab_type": "code",
        "colab": {}
      },
      "cell_type": "code",
      "source": [
        "out_scores, out_boxes, out_classes = predict(sess, \"p5.jpg\")"
      ],
      "execution_count": 0,
      "outputs": []
    },
    {
      "metadata": {
        "id": "-cXhJ5zHgOWD",
        "colab_type": "text"
      },
      "cell_type": "markdown",
      "source": [
        "**Expected Output**:\n",
        "\n"
      ]
    },
    {
      "metadata": {
        "id": "YQVi-o5NgOWE",
        "colab_type": "text"
      },
      "cell_type": "markdown",
      "source": [
        " To test the model on your own images:\n",
        "    1. Click on \"File\" in the upper bar of this notebook\n",
        "    2. Add your image to this Jupyter Notebook's directory, in the \"images\" folder\n",
        "    3. Write your image's name in the cell above code\n",
        "    4. Run the code and see the output of the algorithm!\n",
        "\n",
        "\n",
        "<center>\n",
        "<video width=\"400\" height=\"200\" src=\"nb_images/pred_video_compressed2.mp4\" type=\"video/mp4\" controls>\n",
        "</video>\n",
        "</center>\n",
        "\n",
        "<caption><center> Predictions of the YOLO model on pictures taken from a camera while driving around the Silicon Valley <br> Thanks [drive.ai](https://www.drive.ai/) for providing this dataset! </center></caption>"
      ]
    },
    {
      "metadata": {
        "collapsed": true,
        "id": "LmTnU9aVgOWF",
        "colab_type": "text"
      },
      "cell_type": "markdown",
      "source": [
        "<font color='blue'>\n",
        "**What you should remember**:\n",
        "- YOLO is a state-of-the-art object detection model that is fast and accurate\n",
        "- It runs an input image through a CNN which outputs a 19x19x5x85 dimensional volume. \n",
        "- The encoding can be seen as a grid where each of the 19x19 cells contains information about 5 boxes.\n",
        "- You filter through all the boxes using non-max suppression. Specifically: \n",
        "    - Score thresholding on the probability of detecting a class to keep only accurate (high probability) boxes\n",
        "    - Intersection over Union (IoU) thresholding to eliminate overlapping boxes\n",
        "- Because training a YOLO model from randomly initialized weights is non-trivial and requires a large dataset as well as lot of computation, we used previously trained model parameters in this exercise. If you wish, you can also try fine-tuning the YOLO model with your own dataset, though this would be a fairly non-trivial exercise. "
      ]
    },
    {
      "metadata": {
        "id": "9YHI6gZ-gOWH",
        "colab_type": "text"
      },
      "cell_type": "markdown",
      "source": [
        "*) "
      ]
    },
    {
      "metadata": {
        "id": "UmW7vOjjgOWJ",
        "colab_type": "text"
      },
      "cell_type": "markdown",
      "source": [
        ""
      ]
    }
  ]
}